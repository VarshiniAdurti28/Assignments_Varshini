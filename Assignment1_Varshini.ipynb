{
  "nbformat": 4,
  "nbformat_minor": 0,
  "metadata": {
    "colab": {
      "provenance": [],
      "include_colab_link": true
    },
    "kernelspec": {
      "name": "python3",
      "display_name": "Python 3"
    },
    "language_info": {
      "name": "python"
    }
  },
  "cells": [
    {
      "cell_type": "markdown",
      "metadata": {
        "id": "view-in-github",
        "colab_type": "text"
      },
      "source": [
        "<a href=\"https://colab.research.google.com/github/VarshiniAdurti28/Assignments_Varshini/blob/W1_Varshini/Assignment1_Varshini.ipynb\" target=\"_parent\"><img src=\"https://colab.research.google.com/assets/colab-badge.svg\" alt=\"Open In Colab\"/></a>"
      ]
    },
    {
      "cell_type": "markdown",
      "source": [
        "#  **PyTorch Practice Assignment**\n",
        "**Name**: Your Name Here\n",
        "\n",
        "**Roll Number**: 231XX000"
      ],
      "metadata": {
        "id": "CDn9wbMS0a0r"
      }
    },
    {
      "cell_type": "markdown",
      "source": [
        "## **Instructions:**\n",
        "\n",
        "- Copy this Notebook to your own Drive! You cannot directly modify it.\n",
        "- Please show the output of the cells, in case of some operation. You can specify your own **non-trivial** test-case. Also, try and make your snippets into functions to organize your logic.\n",
        "- You can use any number of cells for a question, you are not restricted to just 1 cell!\n",
        "- **No using ChatGPT for this assignment**: we highly recommend using the [Pytorch Docs](https://pytorch.org/docs/stable/index.html) as your start reference, as well as the vast internet however. You can also contact any of your mentors for some hints/help!\n",
        "- You can work on this assignment in Google Colab or on Your Local Machine!"
      ],
      "metadata": {
        "id": "ENyCsRHv1gqA"
      }
    },
    {
      "cell_type": "markdown",
      "source": [
        "### **Build Up Your Understanding**"
      ],
      "metadata": {
        "id": "1tRkI1j1xGzl"
      }
    },
    {
      "cell_type": "code",
      "source": [
        "import torch as tc\n",
        "from torch import nn\n",
        "\n",
        "import numpy as np"
      ],
      "metadata": {
        "id": "JSaZwze5UXY2"
      },
      "execution_count": 2,
      "outputs": []
    },
    {
      "cell_type": "markdown",
      "source": [
        "1. Write a PyTorch snippet to test whether none of the elements of a given tensor are zero."
      ],
      "metadata": {
        "id": "R75QYzJlz874"
      }
    },
    {
      "cell_type": "code",
      "execution_count": 3,
      "metadata": {
        "id": "YrnLJibzzT0d",
        "outputId": "8590d036-a459-4f2c-b0fa-fe9a5a39f242",
        "colab": {
          "base_uri": "https://localhost:8080/"
        }
      },
      "outputs": [
        {
          "output_type": "stream",
          "name": "stdout",
          "text": [
            "tensor([[ 0.0220,  0.7580, -1.1291, -1.3684],\n",
            "        [-0.5436,  0.6477, -0.2597, -1.4197],\n",
            "        [-0.6144,  0.7906,  0.2345,  0.3952]])\n",
            "no zeroes\n"
          ]
        }
      ],
      "source": [
        "#input\n",
        "test=tc.randn(size=(3,4))\n",
        "print(test)\n",
        "\n",
        "# test[0][1]=0\n",
        "result = tc.count_nonzero(test)\n",
        "\n",
        "if(result==tc.numel(test)):\n",
        "  print(\"no zeroes\")\n",
        "else:\n",
        "  print(\"Some zeroes present\")\n",
        "\n",
        "\n",
        "# Alternate code:\n",
        "# test=tc.randn(size=(3,4))\n",
        "\n",
        "# train = tc.zeros_like(test)\n",
        "# # test[0][1]=0\n",
        "# result = tc.eq(test,train)\n",
        "\n",
        "# if(True in result):\n",
        "#   print(\"There are some zeroes\")\n",
        "# else:\n",
        "#   print(\"no zeroes\")\n"
      ]
    },
    {
      "cell_type": "markdown",
      "source": [
        "2. Write a PyTorch snippet to test element-wise for NaN of a given tensor."
      ],
      "metadata": {
        "id": "N65zZ0B20CcN"
      }
    },
    {
      "cell_type": "code",
      "source": [
        "test=tc.randn(size=(3,4))\n",
        "\n",
        "result=tc.isnan(test)\n",
        "\n",
        "print(test, result)\n"
      ],
      "metadata": {
        "id": "09XtXleK0Yqx",
        "colab": {
          "base_uri": "https://localhost:8080/"
        },
        "outputId": "cd1c18ed-cd0b-421d-b013-b19de0680c81"
      },
      "execution_count": 4,
      "outputs": [
        {
          "output_type": "stream",
          "name": "stdout",
          "text": [
            "tensor([[-0.4230,  0.9936,  0.1127,  0.3816],\n",
            "        [-1.3073,  0.5750, -0.6205,  0.2156],\n",
            "        [ 0.2982, -0.9039, -0.5812, -2.0685]]) tensor([[False, False, False, False],\n",
            "        [False, False, False, False],\n",
            "        [False, False, False, False]])\n"
          ]
        }
      ]
    },
    {
      "cell_type": "markdown",
      "source": [
        "3. Write a PyTorch snippet to test whether two tensors are element-wise equal within a tolerance."
      ],
      "metadata": {
        "id": "nPgqdCS60ZLy"
      }
    },
    {
      "cell_type": "code",
      "source": [
        "t1=tc.randn(size=(3,4))\n",
        "t2=tc.randn(size=(3,4))\n",
        "result=tc.eq(t1, t2)\n",
        "if(False in result):\n",
        "  print(\"They are not equal\")\n",
        "else:\n",
        "  print(\"Equal\")\n"
      ],
      "metadata": {
        "id": "nZlp4IJh1TAG",
        "colab": {
          "base_uri": "https://localhost:8080/"
        },
        "outputId": "61a23f8f-94ec-4299-c90a-2bb26d67692a"
      },
      "execution_count": 5,
      "outputs": [
        {
          "output_type": "stream",
          "name": "stdout",
          "text": [
            "They are not equal\n"
          ]
        }
      ]
    },
    {
      "cell_type": "markdown",
      "source": [
        "4. Write a PyTorch snippet to create a tensor of 10 zeros, 10 ones, and 10 fives stacked on top of each other (try & accomplish everything using nested function calls)."
      ],
      "metadata": {
        "id": "6erc53t11ToS"
      }
    },
    {
      "cell_type": "code",
      "source": [
        "def stacking(arr, axis, num:int):\n",
        "  new=tc.full(size=(10,), fill_value=num, dtype=float)\n",
        "  arr.append(new)\n",
        "  ans=tc.stack((arr), axis)\n",
        "\n",
        "  return ans\n",
        "\n",
        "\n",
        "arr=[]\n",
        "t1=stacking(arr, axis=0, num=0)\n",
        "\n",
        "t1=stacking(arr, axis=0, num=1)\n",
        "t1=stacking(arr, axis=0, num=5)\n",
        "\n",
        "\n",
        "print(t1)\n",
        "\n"
      ],
      "metadata": {
        "id": "DX2o4rH81cXb",
        "colab": {
          "base_uri": "https://localhost:8080/"
        },
        "outputId": "13e45ae9-a20d-48a1-a73a-665dcaab8d2c"
      },
      "execution_count": 6,
      "outputs": [
        {
          "output_type": "stream",
          "name": "stdout",
          "text": [
            "tensor([[0., 0., 0., 0., 0., 0., 0., 0., 0., 0.],\n",
            "        [1., 1., 1., 1., 1., 1., 1., 1., 1., 1.],\n",
            "        [5., 5., 5., 5., 5., 5., 5., 5., 5., 5.]], dtype=torch.float64)\n"
          ]
        }
      ]
    },
    {
      "cell_type": "markdown",
      "source": [
        "5. Write a PyTorch snippet to generate a random number between 0 and 1."
      ],
      "metadata": {
        "id": "HVZFHjER15fI"
      }
    },
    {
      "cell_type": "code",
      "source": [
        "num=tc.rand(size=(1,)).item()\n",
        "print(num)\n"
      ],
      "metadata": {
        "id": "D2sDJxaL16ev",
        "colab": {
          "base_uri": "https://localhost:8080/"
        },
        "outputId": "c28adc6b-5e3e-490e-e6cd-4292b865218b"
      },
      "execution_count": 7,
      "outputs": [
        {
          "output_type": "stream",
          "name": "stdout",
          "text": [
            "0.5498186945915222\n"
          ]
        }
      ]
    },
    {
      "cell_type": "markdown",
      "source": [
        "6. Write a PyTorch snippet to generate a tensor of 15 random numbers from a standard normal distribution."
      ],
      "metadata": {
        "id": "v-bl_RmJ19U2"
      }
    },
    {
      "cell_type": "code",
      "source": [
        "ans=tc.randn(size=(15,))\n",
        "print(ans)"
      ],
      "metadata": {
        "id": "TwOTzLLz1-Oj",
        "colab": {
          "base_uri": "https://localhost:8080/"
        },
        "outputId": "82d9791d-d725-457e-d41a-8af5d9bf4fc1"
      },
      "execution_count": 8,
      "outputs": [
        {
          "output_type": "stream",
          "name": "stdout",
          "text": [
            "tensor([ 2.7229e-01,  5.6094e-01, -1.0192e+00, -3.9995e-01, -7.9636e-04,\n",
            "        -7.8504e-01,  8.5387e-01, -1.1497e+00,  3.4527e-01, -5.4811e-01,\n",
            "         1.4220e+00,  7.9760e-01,  9.8254e-02,  3.7483e-01,  7.6740e-01])\n"
          ]
        }
      ]
    },
    {
      "cell_type": "markdown",
      "source": [
        "7. Write a Pytorch snippet to create a tensor of length 10 with values evenly distributed between 5 and 50."
      ],
      "metadata": {
        "id": "QbsLwc2e1-wI"
      }
    },
    {
      "cell_type": "code",
      "source": [
        "from torch.distributions.uniform import Uniform\n",
        "\n",
        "shape=(10,)\n",
        "r1, r2= 5,51\n",
        "\n",
        "ans=Uniform(r1, r2).sample(shape)\n",
        "print(ans)\n",
        "\n",
        "\n",
        "# r1=5\n",
        "# r2=50\n",
        "\n",
        "# t1=(r2-r1)*tc.rand(10,) + r1\n",
        "# print(t1)\n",
        "\n",
        "\n",
        "# https://stackoverflow.com/questions/44328530/how-to-get-a-uniform-distribution-in-a-range-r1-r2-in-pytorch"
      ],
      "metadata": {
        "id": "4x-aEGJy2F_J",
        "colab": {
          "base_uri": "https://localhost:8080/"
        },
        "outputId": "757ec3c3-e8cb-4634-c37b-ffdcf996e269"
      },
      "execution_count": 9,
      "outputs": [
        {
          "output_type": "stream",
          "name": "stdout",
          "text": [
            "tensor([49.7710, 14.4707,  7.6884, 39.3230, 36.0904, 18.6832, 35.1529, 34.5167,\n",
            "        37.3616, 19.0118])\n"
          ]
        }
      ]
    },
    {
      "cell_type": "markdown",
      "source": [
        "*8*. Write a Pytorch program to create a tensor with values from 0 to 20 and change the sign of the numbers in the range from 9 to 15."
      ],
      "metadata": {
        "id": "z4t6r6xR2IyJ"
      }
    },
    {
      "cell_type": "code",
      "source": [
        "num=tc.arange(0,21)\n",
        "# print(num[9:16])\n",
        "\n",
        "for i in range(9,16):\n",
        "  num[i]=0-num[i]\n",
        "\n",
        "print(num)\n"
      ],
      "metadata": {
        "id": "2ckG-mcF2Jda",
        "colab": {
          "base_uri": "https://localhost:8080/"
        },
        "outputId": "20701555-f887-4a18-c8d3-9672a6f2625e"
      },
      "execution_count": 10,
      "outputs": [
        {
          "output_type": "stream",
          "name": "stdout",
          "text": [
            "tensor([  0,   1,   2,   3,   4,   5,   6,   7,   8,  -9, -10, -11, -12, -13,\n",
            "        -14, -15,  16,  17,  18,  19,  20])\n"
          ]
        }
      ]
    },
    {
      "cell_type": "markdown",
      "source": [
        "9. Write a PyTorch snippet to create a 3x4 2-tensor filled with values from 10 to 21. Same but 12 to 24."
      ],
      "metadata": {
        "id": "n5piPDEY2NXK"
      }
    },
    {
      "cell_type": "code",
      "source": [
        "t1=tc.arange(10,22)\n",
        "t1=t1.reshape([3,4])\n",
        "print(t1)\n",
        "\n",
        "t2=tc.arange(12,24)\n",
        "t2=t2.reshape([3,4])\n",
        "print(t2)"
      ],
      "metadata": {
        "id": "zKzFvfPP2OOy",
        "colab": {
          "base_uri": "https://localhost:8080/"
        },
        "outputId": "fd8670df-fcac-41ff-ab73-a3374b0755bf"
      },
      "execution_count": 11,
      "outputs": [
        {
          "output_type": "stream",
          "name": "stdout",
          "text": [
            "tensor([[10, 11, 12, 13],\n",
            "        [14, 15, 16, 17],\n",
            "        [18, 19, 20, 21]])\n",
            "tensor([[12, 13, 14, 15],\n",
            "        [16, 17, 18, 19],\n",
            "        [20, 21, 22, 23]])\n"
          ]
        }
      ]
    },
    {
      "cell_type": "markdown",
      "source": [
        "10. Write a PyTorch snippet to create a 10x10 2-tensor, in which the elements on the borders will be equal to 1, and inside 0."
      ],
      "metadata": {
        "id": "BMbpvCE12UAA"
      }
    },
    {
      "cell_type": "code",
      "source": [
        "t1=tc.zeros(size=(10,10))\n",
        "t1[:, 0]=1\n",
        "t1[:, 9]=1\n",
        "t1[0,:]=1\n",
        "t1[9,:]=1\n",
        "t1"
      ],
      "metadata": {
        "id": "-e2dvNB12Uv4",
        "colab": {
          "base_uri": "https://localhost:8080/"
        },
        "outputId": "f9e0fd8e-c0f3-4561-e8b2-4051a6740e9f"
      },
      "execution_count": 12,
      "outputs": [
        {
          "output_type": "execute_result",
          "data": {
            "text/plain": [
              "tensor([[1., 1., 1., 1., 1., 1., 1., 1., 1., 1.],\n",
              "        [1., 0., 0., 0., 0., 0., 0., 0., 0., 1.],\n",
              "        [1., 0., 0., 0., 0., 0., 0., 0., 0., 1.],\n",
              "        [1., 0., 0., 0., 0., 0., 0., 0., 0., 1.],\n",
              "        [1., 0., 0., 0., 0., 0., 0., 0., 0., 1.],\n",
              "        [1., 0., 0., 0., 0., 0., 0., 0., 0., 1.],\n",
              "        [1., 0., 0., 0., 0., 0., 0., 0., 0., 1.],\n",
              "        [1., 0., 0., 0., 0., 0., 0., 0., 0., 1.],\n",
              "        [1., 0., 0., 0., 0., 0., 0., 0., 0., 1.],\n",
              "        [1., 1., 1., 1., 1., 1., 1., 1., 1., 1.]])"
            ]
          },
          "metadata": {},
          "execution_count": 12
        }
      ]
    },
    {
      "cell_type": "markdown",
      "source": [
        "11. Write a PyTorch snippet to create a 5x5 zero 2-tensor with elements on the main diagonal equal to 1, 2, 3, 4, 5."
      ],
      "metadata": {
        "id": "3pf24Y0R2YKX"
      }
    },
    {
      "cell_type": "code",
      "source": [
        "t1=tc.zeros(size=(5,5))\n",
        "for i in range(5):\n",
        "  t1[i][i]=i+1\n",
        "\n",
        "t1"
      ],
      "metadata": {
        "id": "eb_vYa5n2Y8O",
        "colab": {
          "base_uri": "https://localhost:8080/"
        },
        "outputId": "84c68658-ebb1-4c3d-96dc-21f344906f90"
      },
      "execution_count": 13,
      "outputs": [
        {
          "output_type": "execute_result",
          "data": {
            "text/plain": [
              "tensor([[1., 0., 0., 0., 0.],\n",
              "        [0., 2., 0., 0., 0.],\n",
              "        [0., 0., 3., 0., 0.],\n",
              "        [0., 0., 0., 4., 0.],\n",
              "        [0., 0., 0., 0., 5.]])"
            ]
          },
          "metadata": {},
          "execution_count": 13
        }
      ]
    },
    {
      "cell_type": "markdown",
      "source": [
        "12. Write a PyTorch snippet to save a given tensor as a binary to a given path."
      ],
      "metadata": {
        "id": "-BkVD0CA2hWL"
      }
    },
    {
      "cell_type": "code",
      "source": [
        "from pathlib import Path\n",
        "save_path= \"tensor_path\"\n",
        "\n",
        "\n",
        "t1=tc.tensor([1,2,3])\n",
        "\n",
        "file_name = \"tensors.pth\"\n",
        "save_path = file_name\n",
        "\n",
        "tc.save(obj=t1, f=save_path)"
      ],
      "metadata": {
        "id": "DrpbNVax2igN"
      },
      "execution_count": 14,
      "outputs": []
    },
    {
      "cell_type": "markdown",
      "source": [
        "13. Write a NumPy program to create a two-dimensional array of a specified format."
      ],
      "metadata": {
        "id": "1zoIfD1k2i71"
      }
    },
    {
      "cell_type": "code",
      "source": [
        "size= tuple(map(int, input().split()))\n",
        "arr=np.empty(shape=size)\n",
        "arr"
      ],
      "metadata": {
        "id": "xXnOECag2zvz",
        "colab": {
          "base_uri": "https://localhost:8080/"
        },
        "outputId": "313523b8-a0aa-4d0a-e4e9-b0daa9451169"
      },
      "execution_count": 15,
      "outputs": [
        {
          "name": "stdout",
          "output_type": "stream",
          "text": [
            " 3 4\n"
          ]
        },
        {
          "output_type": "execute_result",
          "data": {
            "text/plain": [
              "array([[5.04262191e-310, 0.00000000e+000, 0.00000000e+000,\n",
              "        0.00000000e+000],\n",
              "       [0.00000000e+000, 0.00000000e+000, 0.00000000e+000,\n",
              "        0.00000000e+000],\n",
              "       [0.00000000e+000, 0.00000000e+000, 0.00000000e+000,\n",
              "        0.00000000e+000]])"
            ]
          },
          "metadata": {},
          "execution_count": 15
        }
      ]
    },
    {
      "cell_type": "markdown",
      "source": [
        "##14. Write a PyTorch snippet to create a 2-tensor with shape (8,5) of random numbers. Select random numbers from a normal distribution (200,7) (mean, variance)."
      ],
      "metadata": {
        "id": "1V6fwGje28Ak"
      }
    },
    {
      "cell_type": "code",
      "source": [
        "var=7 ** 0.5\n",
        "print(var)\n",
        "mn=200\n",
        "\n",
        "y= var*tc.randn(8,5)+mn\n",
        "\n",
        "\n",
        "y=y.reshape(shape=(8,5))\n",
        "\n",
        "print(tc.mean(y), tc.var(y))"
      ],
      "metadata": {
        "id": "f5pdwN9d27Rr",
        "colab": {
          "base_uri": "https://localhost:8080/"
        },
        "outputId": "26d41278-364a-4ea5-90bf-8dab5736c286"
      },
      "execution_count": 16,
      "outputs": [
        {
          "output_type": "stream",
          "name": "stdout",
          "text": [
            "2.6457513110645907\n",
            "tensor(200.1327) tensor(8.8028)\n"
          ]
        }
      ]
    },
    {
      "cell_type": "markdown",
      "source": [
        "15. Write a PyTorch snippet to generate a uniform, non-uniform random sample from a given vector with and without replacement (do all 4 combinations possible)."
      ],
      "metadata": {
        "id": "hSVeltdw3IoY"
      }
    },
    {
      "cell_type": "code",
      "source": [],
      "metadata": {
        "id": "ZfDNMghS3Jof"
      },
      "execution_count": 16,
      "outputs": []
    },
    {
      "cell_type": "markdown",
      "source": [
        "16. Write a Pyorch snippet to create an nxn(input to function) tensor with random values. Create an array from the said array swapping first and last rows."
      ],
      "metadata": {
        "id": "DOIrjKBq3MjM"
      }
    },
    {
      "cell_type": "code",
      "source": [
        "n=int(input())\n",
        "arr=tc.randn(n,n)\n",
        "result=arr.clone()\n",
        "temp=result[0].clone()\n",
        "result[0]=result[n-1]\n",
        "\n",
        "result[n-1]=temp\n",
        "\n",
        "print(arr, result)"
      ],
      "metadata": {
        "id": "xFkWtcTN3MI3",
        "colab": {
          "base_uri": "https://localhost:8080/"
        },
        "outputId": "8a83c7e0-be04-4a75-8326-55038402998f"
      },
      "execution_count": 17,
      "outputs": [
        {
          "output_type": "stream",
          "name": "stdout",
          "text": [
            "3\n",
            "tensor([[ 0.0089, -0.5818,  2.4819],\n",
            "        [ 1.4197, -0.6601, -0.4689],\n",
            "        [-0.0111, -0.7287, -1.5270]]) tensor([[-0.0111, -0.7287, -1.5270],\n",
            "        [ 1.4197, -0.6601, -0.4689],\n",
            "        [ 0.0089, -0.5818,  2.4819]])\n"
          ]
        }
      ]
    },
    {
      "cell_type": "markdown",
      "source": [
        "17. Write a PyTorch snippet to sort a given tensor (1D or 2D) in ascending order."
      ],
      "metadata": {
        "id": "e2yl3FJI3SOW"
      }
    },
    {
      "cell_type": "code",
      "source": [
        "t1=tc.randn(3,4)\n",
        "format=t1.shape\n",
        "print(t1)\n",
        "t1=t1.reshape(t1.numel(),)\n",
        "t1=(tc.sort(t1)).values\n",
        "ans=t1.reshape(shape=(format))\n",
        "print(ans)"
      ],
      "metadata": {
        "id": "FxiCfs8y3R8W",
        "colab": {
          "base_uri": "https://localhost:8080/"
        },
        "outputId": "3e725f55-7ffd-43cf-f6f3-6f4ac73a101e"
      },
      "execution_count": 18,
      "outputs": [
        {
          "output_type": "stream",
          "name": "stdout",
          "text": [
            "tensor([[-1.3735, -0.5217,  0.3721,  0.2513],\n",
            "        [ 1.0839,  0.7835,  0.3167, -2.2296],\n",
            "        [ 0.5114, -0.7315, -0.1833, -0.5580]])\n",
            "tensor([[-2.2296, -1.3735, -0.7315, -0.5580],\n",
            "        [-0.5217, -0.1833,  0.2513,  0.3167],\n",
            "        [ 0.3721,  0.5114,  0.7835,  1.0839]])\n"
          ]
        }
      ]
    },
    {
      "cell_type": "markdown",
      "source": [
        "18. Write a PyTorch snippet to create a tensor of equal shape and data type for a given tensor (any dimensional)"
      ],
      "metadata": {
        "id": "TY1htljY3X50"
      }
    },
    {
      "cell_type": "code",
      "source": [
        "t1=tc.randn(3,4, dtype=tc.float16)\n",
        "t2=tc.randn(*(t1.shape), dtype=t1.dtype)\n",
        "print(t2.shape, t2.dtype)"
      ],
      "metadata": {
        "id": "br714aF43Xax",
        "colab": {
          "base_uri": "https://localhost:8080/"
        },
        "outputId": "78e867eb-21b8-4e8c-af6e-e244ff8e5cc7"
      },
      "execution_count": 19,
      "outputs": [
        {
          "output_type": "stream",
          "name": "stdout",
          "text": [
            "torch.Size([3, 4]) torch.float16\n"
          ]
        }
      ]
    },
    {
      "cell_type": "markdown",
      "source": [
        "19. Write a PyTorch snippet to create an 8x8 matrix and fill it with a checkerboard pattern.\n",
        "Checkerboard pattern:\n",
        "```py\n",
        "[[0 1 0 1 0 1 0 1]\n",
        "..........\n",
        "[0 1 0 1 0 1 0 1]\n",
        "[1 0 1 0 1 0 1 0]]\n",
        "```"
      ],
      "metadata": {
        "id": "jWZmWlDz3kE-"
      }
    },
    {
      "cell_type": "code",
      "source": [
        "ans=tc.randn(8,8)\n",
        "\n",
        "for i in range(8):\n",
        "  if(i%2==0):\n",
        "    ans[i]=tc.tensor([0,1,0,1,0,1,0,1])\n",
        "\n",
        "  else:\n",
        "    ans[i]=tc.tensor([1,0,1,0,1,0,1,0])\n",
        "\n",
        "print(ans)\n"
      ],
      "metadata": {
        "id": "gUQpw8Fg3lag",
        "colab": {
          "base_uri": "https://localhost:8080/"
        },
        "outputId": "5beb0495-5d4a-45cb-ba17-23b1e9981f9d"
      },
      "execution_count": 20,
      "outputs": [
        {
          "output_type": "stream",
          "name": "stdout",
          "text": [
            "tensor([[0., 1., 0., 1., 0., 1., 0., 1.],\n",
            "        [1., 0., 1., 0., 1., 0., 1., 0.],\n",
            "        [0., 1., 0., 1., 0., 1., 0., 1.],\n",
            "        [1., 0., 1., 0., 1., 0., 1., 0.],\n",
            "        [0., 1., 0., 1., 0., 1., 0., 1.],\n",
            "        [1., 0., 1., 0., 1., 0., 1., 0.],\n",
            "        [0., 1., 0., 1., 0., 1., 0., 1.],\n",
            "        [1., 0., 1., 0., 1., 0., 1., 0.]])\n"
          ]
        }
      ]
    },
    {
      "cell_type": "markdown",
      "source": [
        "20. Write a Pytorch snippet to convert Centigrade to Fahrenheit and vice versa (controlled by a parameter). Ensure you operation is vectorized i.e **no explicit looping**\n",
        "\n",
        "Sample Array: `[0, 12, 45.21, 34, 99.91]`"
      ],
      "metadata": {
        "id": "yB4L7Usg364D"
      }
    },
    {
      "cell_type": "code",
      "source": [
        "scale=input(\"Enter input scale (cel or far)\\n\")\n",
        "sample=tc.tensor([0, 12, 45.21, 34, 99.91])\n",
        "\n",
        "\n",
        "def convert(arr:tc.Tensor(), deg:str):\n",
        "  if(deg==\"cel\"):\n",
        "    new=(arr * 9)/5 + 32\n",
        "\n",
        "  elif(deg==\"far\"):\n",
        "\n",
        "    new=((arr-32)*5)/9\n",
        "\n",
        "\n",
        "  return new\n",
        "\n",
        "\n",
        "print(convert(sample, scale))\n"
      ],
      "metadata": {
        "id": "IPTecJEQ3_JC",
        "colab": {
          "base_uri": "https://localhost:8080/"
        },
        "outputId": "d80f1c76-93f9-4a68-ea0e-83fa5cfb5328"
      },
      "execution_count": 21,
      "outputs": [
        {
          "output_type": "stream",
          "name": "stdout",
          "text": [
            "Enter input scale (cel or far)\n",
            "far\n",
            "tensor([-17.7778, -11.1111,   7.3389,   1.1111,  37.7278])\n"
          ]
        }
      ]
    },
    {
      "cell_type": "markdown",
      "source": [
        "21. Write a PyTorch snippet to get the values of the elements that are bigger than a given *number* in a given tensor.\n",
        "\n",
        "Original tensor:\n",
        "```\n",
        "[[ 0 10 20]\n",
        "[20 30 40]]\n",
        "```\n",
        "Number: 10\n",
        "\n",
        "Values bigger than 10 = `[20 20 30 40]`"
      ],
      "metadata": {
        "id": "n8dqXvMZ4oFb"
      }
    },
    {
      "cell_type": "code",
      "source": [
        "t1=tc.tensor([[ 0,10,20],[20, 30, 40]])\n",
        "num=int(input())\n",
        "\n",
        "def check(tens, num):\n",
        "  ans=t1[t1>10]\n",
        "\n",
        "  return ans\n",
        "\n",
        "print(check(t1, num))"
      ],
      "metadata": {
        "id": "HwoDL-Kr4ww4",
        "colab": {
          "base_uri": "https://localhost:8080/"
        },
        "outputId": "66464f3d-1f17-42d3-e591-395dab705cce"
      },
      "execution_count": 22,
      "outputs": [
        {
          "output_type": "stream",
          "name": "stdout",
          "text": [
            "10\n",
            "tensor([20, 20, 30, 40])\n"
          ]
        }
      ]
    },
    {
      "cell_type": "markdown",
      "source": [
        "22. Write a PyTorch snippet to create another shape from an array without changing its data. After carrying out the operation, change the data in one place and see if the other tensor changes\n",
        "\n",
        "Reshape 3x2:\n",
        "```\n",
        "[[1 2]\n",
        "[3 4]\n",
        "[5 6]]\n",
        "```\n",
        "Reshape 2x3:\n",
        "```\n",
        "[[1 2 3]\n",
        "[4 5 6]]\n",
        "```"
      ],
      "metadata": {
        "id": "QmR9luYk4xaa"
      }
    },
    {
      "cell_type": "code",
      "source": [
        "t1=tc.tensor([[1,2],[3,4],[5,6]])\n",
        "t2=t1.reshape(shape=(2,3))\n",
        "t2[1][0]=54\n",
        "print(t2, t1)\n",
        "\n",
        "\n",
        "#Value changes when you use reshape"
      ],
      "metadata": {
        "id": "oUvXdmtV5ZRJ",
        "colab": {
          "base_uri": "https://localhost:8080/"
        },
        "outputId": "d929fe37-f977-4d9f-c618-96b0772021ba"
      },
      "execution_count": 23,
      "outputs": [
        {
          "output_type": "stream",
          "name": "stdout",
          "text": [
            "tensor([[ 1,  2,  3],\n",
            "        [54,  5,  6]]) tensor([[ 1,  2],\n",
            "        [ 3, 54],\n",
            "        [ 5,  6]])\n"
          ]
        }
      ]
    },
    {
      "cell_type": "markdown",
      "source": [
        "23. Write a PyTorch snipppet to change an tensor's data type.\n",
        "```\n",
        "[[ 2 4 6]\n",
        "[ 6 8 10]]\n",
        "```\n",
        "Data type of the array x is: `int32`\n",
        "\n",
        "New Type: `float64`\n",
        "```\n",
        "[[ 2. 4. 6.]\n",
        "[ 6. 8. 10.]]\n",
        "```"
      ],
      "metadata": {
        "id": "ew1n8aUg5QZA"
      }
    },
    {
      "cell_type": "code",
      "source": [
        "t1=tc.tensor([[2, 4, 6],[ 6,8,10]], dtype=tc.float64)\n",
        "\n",
        "print(t1)\n",
        "\n",
        "#or\n",
        "\n",
        "t1=tc.tensor([[2, 4, 6],[ 6,8,10]])\n",
        "t1=t1.type(tc.float64)\n",
        "print(t1)\n",
        "\n"
      ],
      "metadata": {
        "colab": {
          "base_uri": "https://localhost:8080/"
        },
        "id": "rle47-WsDZH1",
        "outputId": "a4fa92b4-d7a8-4db9-b994-0d8590c548d9"
      },
      "execution_count": 24,
      "outputs": [
        {
          "output_type": "stream",
          "name": "stdout",
          "text": [
            "tensor([[ 2.,  4.,  6.],\n",
            "        [ 6.,  8., 10.]], dtype=torch.float64)\n",
            "tensor([[ 2.,  4.,  6.],\n",
            "        [ 6.,  8., 10.]], dtype=torch.float64)\n"
          ]
        }
      ]
    },
    {
      "cell_type": "markdown",
      "source": [
        "24. Write a PyTorch snippet to insert a new axis within a 2-tensor, based on a **parameter**.\n",
        "\n",
        "Ex: If 2-tensor has shape (3, 4).\n",
        "\n",
        "Then, new shape can be (1, 3, 4), (3, 1, 4), or (3, 4, 1) depending on...."
      ],
      "metadata": {
        "id": "0hf1vOk75-Df"
      }
    },
    {
      "cell_type": "code",
      "source": [
        "t1=tc.randn(3,4)\n",
        "param=int(input(\"Enter values between 1 to 3\\n\"))\n",
        "\n",
        "def newdim(tens, para):\n",
        "  if(para==1):\n",
        "    ans=t1[None, ]\n",
        "  elif(para==2):\n",
        "    ans=t1[:, None, ]\n",
        "  else:\n",
        "    ans=t1[:, :, None]\n",
        "\n",
        "  return ans\n",
        "\n",
        "print(newdim(t1, param).shape)"
      ],
      "metadata": {
        "id": "38vF5Dwk5Dbi",
        "colab": {
          "base_uri": "https://localhost:8080/"
        },
        "outputId": "8f76c8c1-2af5-4ae0-df8a-7e89dab1955b"
      },
      "execution_count": 25,
      "outputs": [
        {
          "output_type": "stream",
          "name": "stdout",
          "text": [
            "Enter values between 1 to 3\n",
            "1\n",
            "torch.Size([1, 3, 4])\n"
          ]
        }
      ]
    },
    {
      "cell_type": "markdown",
      "source": [
        "25. Write a PyTorch snippet to stack tensors based on a parameter, **axis**.\n",
        "First discover what this means with 2-tensors, then extend it to 3-tensors. Print your findings.\n",
        "\n",
        "Sample Output:\n",
        "\n",
        "Original tensors:\n",
        "\n",
        "Tensor-1\n",
        "```\n",
        "[[0 1 2]\n",
        "[3 4 5]\n",
        "[6 7 8]]\n",
        "```\n",
        "Tensor-2\n",
        "```\n",
        "[[ 0 3 6]\n",
        "[ 9 12 15]\n",
        "[18 21 24]]\n",
        "```\n",
        "Stack tensors such that axis=1:\n",
        "```\n",
        "[[ 0 1 2 0 3 6]\n",
        "[ 3 4 5 9 12 15]\n",
        "[ 6 7 8 18 21 24]]\n",
        "```"
      ],
      "metadata": {
        "id": "K4GeygLp7wAt"
      }
    },
    {
      "cell_type": "code",
      "source": [
        "#In 2D\n",
        "t1=tc.tensor([[0, 1, 2],[3, 4, 5],[6, 7, 8]])\n",
        "t2=tc.tensor([[ 0, 3, 6],[ 9, 12, 15],[18, 21, 24]])\n",
        "print(t1,t2)\n",
        "ax=int(input(\"Enter 0 or 1 \\n\"))\n",
        "\n",
        "def stacking(tens:tuple, axis:int):\n",
        "  new=tc.cat(tens, axis=axis) #Use tc.stack(same syntax) for stacking, however this adds another dimension while cat()stacks the tensors along an existing dimension\n",
        "\n",
        "  return new\n",
        "\n",
        "\n",
        "print(stacking((t1,t2), ax))\n",
        "print(\"\\n\")\n",
        "#In 3D\n",
        "t1=tc.tensor([[[0, 1, 2],[3, 4, 5],[6, 7, 8]], [[45,54,71],[48,65,91],[75,235,64]]])\n",
        "t2=tc.tensor([[[ 0, 3, 6],[ 9, 12, 15],[18, 21, 24]], [[7,1,3],[11,55,81],[9,23,14]]])\n",
        "print(t1,t2)\n",
        "ax=int(input(\"Enter 0 or 1 or 2\\n\"))\n",
        "\n",
        "print(stacking((t1,t2), ax))\n"
      ],
      "metadata": {
        "id": "-37mCkKH75fN",
        "colab": {
          "base_uri": "https://localhost:8080/"
        },
        "outputId": "fde198f7-3a20-4542-92d0-adc4608db81c"
      },
      "execution_count": 26,
      "outputs": [
        {
          "output_type": "stream",
          "name": "stdout",
          "text": [
            "tensor([[0, 1, 2],\n",
            "        [3, 4, 5],\n",
            "        [6, 7, 8]]) tensor([[ 0,  3,  6],\n",
            "        [ 9, 12, 15],\n",
            "        [18, 21, 24]])\n",
            "Enter 0 or 1 \n",
            "0\n",
            "tensor([[ 0,  1,  2],\n",
            "        [ 3,  4,  5],\n",
            "        [ 6,  7,  8],\n",
            "        [ 0,  3,  6],\n",
            "        [ 9, 12, 15],\n",
            "        [18, 21, 24]])\n",
            "\n",
            "\n",
            "tensor([[[  0,   1,   2],\n",
            "         [  3,   4,   5],\n",
            "         [  6,   7,   8]],\n",
            "\n",
            "        [[ 45,  54,  71],\n",
            "         [ 48,  65,  91],\n",
            "         [ 75, 235,  64]]]) tensor([[[ 0,  3,  6],\n",
            "         [ 9, 12, 15],\n",
            "         [18, 21, 24]],\n",
            "\n",
            "        [[ 7,  1,  3],\n",
            "         [11, 55, 81],\n",
            "         [ 9, 23, 14]]])\n",
            "Enter 0 or 1 or 2\n",
            "1\n",
            "tensor([[[  0,   1,   2],\n",
            "         [  3,   4,   5],\n",
            "         [  6,   7,   8],\n",
            "         [  0,   3,   6],\n",
            "         [  9,  12,  15],\n",
            "         [ 18,  21,  24]],\n",
            "\n",
            "        [[ 45,  54,  71],\n",
            "         [ 48,  65,  91],\n",
            "         [ 75, 235,  64],\n",
            "         [  7,   1,   3],\n",
            "         [ 11,  55,  81],\n",
            "         [  9,  23,  14]]])\n"
          ]
        }
      ]
    },
    {
      "cell_type": "markdown",
      "source": [
        "26. Write a PyTorch snippet to extract the **m**th to **n**th elements of the **m**th to **n**th rows from the **m**th to nth elemnts of given 3-tensor, of shape `(p, q, r)` where m, n < p, q, r.\n",
        "\n",
        "Take a 3-tensor of (say) size `(5,6,7)` and `(m, n)` = `(4, 5)` as a test case!"
      ],
      "metadata": {
        "id": "6kix-xlh8hFz"
      }
    },
    {
      "cell_type": "code",
      "source": [
        "sample=tc.randn(size=(5,6,7))\n",
        "(m,n)=(2,4)\n",
        "m-=1\n",
        "n-=1\n",
        "\n",
        "arr=sample[m:n, m:n, m:n]\n",
        "\n",
        "\n",
        "print(sample)\n",
        "\n",
        "print(\"\\n\\n\")\n",
        "\n",
        "print(arr)\n",
        "\n"
      ],
      "metadata": {
        "id": "w-rnFTIwW-f9",
        "colab": {
          "base_uri": "https://localhost:8080/"
        },
        "outputId": "b677e145-be4f-488e-93e2-29f1815daa87"
      },
      "execution_count": 27,
      "outputs": [
        {
          "output_type": "stream",
          "name": "stdout",
          "text": [
            "tensor([[[ 2.2881,  0.9049,  0.1925,  1.7315, -0.1165,  0.3394, -0.3963],\n",
            "         [ 0.4520, -2.3000, -1.1805,  1.1503,  0.3258,  1.2452, -0.7329],\n",
            "         [ 0.6899,  1.1459, -0.4978,  0.2343,  1.0937,  1.5564, -0.0677],\n",
            "         [ 0.7744,  0.3710,  0.8320, -0.7594, -2.0406,  0.2863,  0.8900],\n",
            "         [ 0.1792, -1.0750, -2.2565, -1.4910,  0.0581, -0.1127, -2.7266],\n",
            "         [ 0.6580, -0.7687,  0.1454,  1.4755,  0.0122,  2.2230,  0.0255]],\n",
            "\n",
            "        [[ 0.7659,  1.2169,  0.8250, -0.3172, -0.8260,  0.4305,  0.5375],\n",
            "         [ 0.0919, -0.3304,  0.1987, -1.1169, -2.1782,  2.5617,  0.6428],\n",
            "         [-0.3021, -0.2692, -0.2003, -1.5948, -3.1239,  0.4626,  0.1085],\n",
            "         [-1.8789,  0.1045,  0.3505,  0.8006, -0.2943,  0.0604, -0.7830],\n",
            "         [ 0.4381, -0.4382, -1.0593,  1.1172, -1.0579,  1.0872, -0.3478],\n",
            "         [ 0.4097,  0.9601,  0.6443,  0.2239,  1.1291, -0.5381, -0.7002]],\n",
            "\n",
            "        [[-1.1243,  0.4248, -1.2714, -0.2450,  1.4358, -1.8282, -1.0586],\n",
            "         [-0.3022,  1.5405, -0.2509, -0.7925, -1.2609, -0.3132,  0.4170],\n",
            "         [-1.7911, -0.0591, -0.4162, -0.8999,  1.5854,  1.4827,  1.8042],\n",
            "         [-0.6179,  0.1564, -1.2503, -0.9301, -0.2067,  0.6336, -0.5600],\n",
            "         [ 0.5885,  1.3512, -0.2735, -0.1131,  0.2050,  0.3736,  0.1305],\n",
            "         [ 1.2807, -0.0528, -0.5921,  0.3665, -2.2156,  0.2321, -0.9343]],\n",
            "\n",
            "        [[-1.3077,  0.1063, -1.9400, -0.7997,  1.9149,  1.5636, -0.2103],\n",
            "         [-0.4459,  0.4507,  0.7490, -1.9109, -0.5756,  0.5336,  1.1145],\n",
            "         [-0.9000, -0.5416, -2.2887,  2.1548, -0.3578,  0.8302, -0.2232],\n",
            "         [ 0.0381, -0.9230,  2.0206, -0.2564,  0.6232, -1.0501,  1.2655],\n",
            "         [ 0.8959, -0.5394,  0.7447, -0.5430, -1.8316, -0.3696,  0.7052],\n",
            "         [-0.1553,  1.1127,  0.8045, -0.3998, -0.8237, -0.9923, -0.8548]],\n",
            "\n",
            "        [[ 0.0188,  0.4397, -0.7991,  0.8845, -0.9680,  0.3589,  0.2336],\n",
            "         [ 0.2052,  0.4213, -0.0124, -0.1776, -0.3877, -0.4465,  1.4424],\n",
            "         [ 1.5789, -0.5406, -0.8542, -1.3309,  0.1638, -1.2651, -0.4535],\n",
            "         [ 0.2259, -1.8478,  0.6424,  0.7109, -1.6523,  1.7303, -0.9203],\n",
            "         [-0.7352, -0.4433,  0.0207, -0.0213,  0.9505, -0.0142, -1.7450],\n",
            "         [ 1.1454,  1.2364,  0.6718, -0.7024, -0.9781, -0.1038,  1.0662]]])\n",
            "\n",
            "\n",
            "\n",
            "tensor([[[-0.3304,  0.1987],\n",
            "         [-0.2692, -0.2003]],\n",
            "\n",
            "        [[ 1.5405, -0.2509],\n",
            "         [-0.0591, -0.4162]]])\n"
          ]
        }
      ]
    },
    {
      "cell_type": "markdown",
      "source": [
        "### **Test your Understanding**"
      ],
      "metadata": {
        "id": "IxOFseFaxEQu"
      }
    },
    {
      "cell_type": "markdown",
      "source": [
        "1. Given a 3D tensor of shape `(a, b, c)`*italicised text*, permute its axes to obtain tensors of all other shape combinations (i.e 5)."
      ],
      "metadata": {
        "id": "Vzbo4s_KAsE9"
      }
    },
    {
      "cell_type": "code",
      "source": [
        "from itertools import permutations\n",
        "a,b,c = map(int,input().split())\n",
        "\n",
        "t=tc.randn(size=(a,b,c))\n",
        "print(t)\n",
        "order=permutations([0,1,2])\n",
        "\n",
        "final=[]\n",
        "\n",
        "for i in order:\n",
        "  t1=tc.permute(t, tuple(i))\n",
        "  final.append(t1)\n",
        "\n",
        "\n",
        "print(\"\\n\")\n",
        "\n",
        "for i in final:\n",
        "  print(i, i.shape)\n"
      ],
      "metadata": {
        "id": "R791RvsIAh3O",
        "colab": {
          "base_uri": "https://localhost:8080/"
        },
        "outputId": "b42d37bd-c24e-4c59-b8cd-9edae3b7693b"
      },
      "execution_count": 28,
      "outputs": [
        {
          "output_type": "stream",
          "name": "stdout",
          "text": [
            "1 2 3\n",
            "tensor([[[ 0.8100, -1.2480,  0.2738],\n",
            "         [ 0.0237,  0.3249,  0.1941]]])\n",
            "\n",
            "\n",
            "tensor([[[ 0.8100, -1.2480,  0.2738],\n",
            "         [ 0.0237,  0.3249,  0.1941]]]) torch.Size([1, 2, 3])\n",
            "tensor([[[ 0.8100,  0.0237],\n",
            "         [-1.2480,  0.3249],\n",
            "         [ 0.2738,  0.1941]]]) torch.Size([1, 3, 2])\n",
            "tensor([[[ 0.8100, -1.2480,  0.2738]],\n",
            "\n",
            "        [[ 0.0237,  0.3249,  0.1941]]]) torch.Size([2, 1, 3])\n",
            "tensor([[[ 0.8100],\n",
            "         [-1.2480],\n",
            "         [ 0.2738]],\n",
            "\n",
            "        [[ 0.0237],\n",
            "         [ 0.3249],\n",
            "         [ 0.1941]]]) torch.Size([2, 3, 1])\n",
            "tensor([[[ 0.8100,  0.0237]],\n",
            "\n",
            "        [[-1.2480,  0.3249]],\n",
            "\n",
            "        [[ 0.2738,  0.1941]]]) torch.Size([3, 1, 2])\n",
            "tensor([[[ 0.8100],\n",
            "         [ 0.0237]],\n",
            "\n",
            "        [[-1.2480],\n",
            "         [ 0.3249]],\n",
            "\n",
            "        [[ 0.2738],\n",
            "         [ 0.1941]]]) torch.Size([3, 2, 1])\n"
          ]
        }
      ]
    },
    {
      "cell_type": "markdown",
      "source": [
        "2. Given a 4D tensor of shape `(2, 3, 4, 5)`, transpose it to obtain a tensor of shape `(2, 4, 5, 3)`. Also explore what is_contiguous() means..."
      ],
      "metadata": {
        "id": "CwETJF5fAz-j"
      }
    },
    {
      "cell_type": "code",
      "source": [
        "t=tc.randn(size=(2,3,4,5))\n",
        "\n",
        "ans=tc.permute(t, (0,2,3,1))\n",
        "\n",
        "print(ans.shape)\n",
        "\n",
        "\n",
        "#or\n",
        "\n",
        "new= tc.transpose(t,1,2)\n",
        "new=tc.transpose(new, 2,3)\n",
        "\n",
        "print(new.shape)\n"
      ],
      "metadata": {
        "id": "tfdlEGx3Ag2B",
        "colab": {
          "base_uri": "https://localhost:8080/"
        },
        "outputId": "3554b416-a171-4f0e-e52a-7991b9bc0c48"
      },
      "execution_count": 29,
      "outputs": [
        {
          "output_type": "stream",
          "name": "stdout",
          "text": [
            "torch.Size([2, 4, 5, 3])\n",
            "torch.Size([2, 4, 5, 3])\n"
          ]
        }
      ]
    },
    {
      "cell_type": "markdown",
      "source": [
        "3. Given two tensors, one of shape (n, 1) and another of shape (m, ), perform an element-wise addition."
      ],
      "metadata": {
        "id": "W13ajP4aBO3v"
      }
    },
    {
      "cell_type": "code",
      "source": [
        "m,n = map(int, input().split())\n",
        "\n",
        "t1=tc.randn(size=(m,))\n",
        "t2=tc.randn(size=(n,1))\n",
        "print(t1, t2)\n",
        "\n",
        "\n",
        "def add(t1, t2, n, m):\n",
        "  new1=t1.repeat(n, 1)\n",
        "  new2=t2.repeat(1, m)\n",
        "\n",
        "  ans=new1+new2\n",
        "\n",
        "  return ans\n",
        "\n",
        "\n",
        "\n",
        "manual_add=add(t1, t2, n, m)  #BY MANUAL BROADCASTING\n",
        "print(manual_add)\n",
        "\n",
        "print(\"\\n\")\n",
        "simple_add=t1+t2\n",
        "print(simple_add)\n"
      ],
      "metadata": {
        "id": "3AtpWGh1Bdpd",
        "colab": {
          "base_uri": "https://localhost:8080/"
        },
        "outputId": "2c0da727-386b-46b6-cb71-49684ab98f62"
      },
      "execution_count": 30,
      "outputs": [
        {
          "output_type": "stream",
          "name": "stdout",
          "text": [
            "3 4\n",
            "tensor([ 0.2036,  0.9888, -1.1898]) tensor([[ 0.1804],\n",
            "        [ 0.1813],\n",
            "        [-1.8153],\n",
            "        [ 0.2515]])\n",
            "tensor([[ 0.3840,  1.1693, -1.0093],\n",
            "        [ 0.3849,  1.1701, -1.0084],\n",
            "        [-1.6117, -0.8265, -3.0051],\n",
            "        [ 0.4551,  1.2403, -0.9383]])\n",
            "\n",
            "\n",
            "tensor([[ 0.3840,  1.1693, -1.0093],\n",
            "        [ 0.3849,  1.1701, -1.0084],\n",
            "        [-1.6117, -0.8265, -3.0051],\n",
            "        [ 0.4551,  1.2403, -0.9383]])\n"
          ]
        }
      ]
    },
    {
      "cell_type": "markdown",
      "source": [
        "4. Given a 3D tensor of shape `(4, 4, 4)`, extract a sub-tensor of shape `(2, 2, 2)` starting from the element at index `(1, 1, 1)`**bold text**."
      ],
      "metadata": {
        "id": "LnyUlwKWBeUz"
      }
    },
    {
      "cell_type": "code",
      "source": [
        "arr=tc.randn(size=(4,4,4))\n",
        "\n",
        "arr2= arr[1:, 1:, 1:]\n",
        "\n",
        "final=arr2[0:2, 0:2, :]\n",
        "\n",
        "print(f\"{arr}\\n{arr2}\\n\\n\\n{final}\")\n",
        "\n"
      ],
      "metadata": {
        "id": "1oRhgDE6BqKg",
        "colab": {
          "base_uri": "https://localhost:8080/"
        },
        "outputId": "e48d4974-faf9-4774-9bca-efbcfa806c75"
      },
      "execution_count": 37,
      "outputs": [
        {
          "output_type": "stream",
          "name": "stdout",
          "text": [
            "tensor([[[-0.0271, -0.3532,  1.4639,  0.1729],\n",
            "         [ 1.0514,  0.0075, -0.0774,  0.6427],\n",
            "         [ 0.5655,  0.5058,  0.2225, -0.9143],\n",
            "         [ 1.4840, -0.9109, -0.5291, -0.8051]],\n",
            "\n",
            "        [[ 0.4323, -0.1250,  0.7821,  0.5635],\n",
            "         [ 1.8582,  1.0441, -0.8638,  0.8351],\n",
            "         [ 0.2466, -1.9776,  0.0179, -1.4129],\n",
            "         [-1.8791, -0.1798,  0.7904,  0.5239]],\n",
            "\n",
            "        [[-0.7470,  1.7093,  0.0579,  0.8637],\n",
            "         [-0.5890, -1.0340, -0.2179,  0.7987],\n",
            "         [ 1.1566,  0.2691, -0.0366, -0.4808],\n",
            "         [ 0.3163,  0.3866,  0.7337,  0.2510]],\n",
            "\n",
            "        [[-0.1293, -0.7150, -0.0476,  0.5230],\n",
            "         [ 0.9717, -0.2779, -0.6116, -0.5572],\n",
            "         [ 0.1016,  1.3433,  0.7133,  0.3463],\n",
            "         [-0.5402,  0.8569, -0.6721,  1.0682]]])\n",
            "tensor([[[ 1.0441, -0.8638,  0.8351],\n",
            "         [-1.9776,  0.0179, -1.4129],\n",
            "         [-0.1798,  0.7904,  0.5239]],\n",
            "\n",
            "        [[-1.0340, -0.2179,  0.7987],\n",
            "         [ 0.2691, -0.0366, -0.4808],\n",
            "         [ 0.3866,  0.7337,  0.2510]],\n",
            "\n",
            "        [[-0.2779, -0.6116, -0.5572],\n",
            "         [ 1.3433,  0.7133,  0.3463],\n",
            "         [ 0.8569, -0.6721,  1.0682]]])\n",
            "\n",
            "\n",
            "tensor([[[ 1.0441, -0.8638,  0.8351],\n",
            "         [-1.9776,  0.0179, -1.4129]],\n",
            "\n",
            "        [[-1.0340, -0.2179,  0.7987],\n",
            "         [ 0.2691, -0.0366, -0.4808]]])\n"
          ]
        }
      ]
    },
    {
      "cell_type": "markdown",
      "source": [
        "5. Given a 2-tensor of arbitrary shape, rotate it 90 degrees anticlockwise.\n",
        "\n"
      ],
      "metadata": {
        "id": "-GJaZaZyBsaU"
      }
    },
    {
      "cell_type": "code",
      "source": [
        "t1=tc.randn(size=(3,4))\n",
        "\n",
        "ans=tc.rot90(t1)\n",
        "print(t1,ans)"
      ],
      "metadata": {
        "id": "fb5enhEsB1Um",
        "colab": {
          "base_uri": "https://localhost:8080/"
        },
        "outputId": "ebc9c3d9-3daf-4834-cc0c-41d13cce7036"
      },
      "execution_count": 32,
      "outputs": [
        {
          "output_type": "stream",
          "name": "stdout",
          "text": [
            "tensor([[-0.9804,  1.2485, -1.6569, -1.0198],\n",
            "        [-0.2970, -1.0201,  0.5458,  2.0601],\n",
            "        [ 1.7141,  0.3903,  0.0313,  1.6964]]) tensor([[-1.0198,  2.0601,  1.6964],\n",
            "        [-1.6569,  0.5458,  0.0313],\n",
            "        [ 1.2485, -1.0201,  0.3903],\n",
            "        [-0.9804, -0.2970,  1.7141]])\n"
          ]
        }
      ]
    },
    {
      "cell_type": "markdown",
      "source": [
        "### **EVEN I HAD TO THINK...**"
      ],
      "metadata": {
        "id": "DNTlDxZ4C4-R"
      }
    },
    {
      "cell_type": "markdown",
      "source": [
        "1. Implement a custom operation that computes the **element-wise** **sine** of a tensor *and* its **gradient** using torch.autograd.Function.\n",
        "- You need to implement both the forward() and backward() methods.\n",
        "- For an example, look no further than the [PyTorch docs](https://pytorch.org/docs/stable/autograd.html#function)!\n",
        "- Test it out on a matrix of arbitrary size!"
      ],
      "metadata": {
        "id": "Mh71KC4rDAcY"
      }
    },
    {
      "cell_type": "code",
      "source": [
        "tc.manual_seed(42)\n",
        "test= tc.randn(size=(3,4), requires_grad=True)\n",
        "\n",
        "sine= tc.sin(test)\n",
        "print(sine)\n",
        "\n",
        "out= tc.sum(sine)\n",
        "\n",
        "# final=tc.autograd.grad(out, test)\n",
        "\n",
        "# print(final)\n",
        "\n",
        "\n",
        "final=tc.autograd.backward(out, inputs=test)\n",
        "print(final)\n",
        "\n"
      ],
      "metadata": {
        "id": "0Ntq8CgFC9jy",
        "colab": {
          "base_uri": "https://localhost:8080/"
        },
        "outputId": "8d49a1be-c08e-4380-b3f1-c1d2ab6dc993"
      },
      "execution_count": 33,
      "outputs": [
        {
          "output_type": "stream",
          "name": "stdout",
          "text": [
            "tensor([[ 0.3304,  0.1285,  0.2323,  0.2283],\n",
            "        [-0.9013, -0.1853,  0.8036, -0.5956],\n",
            "        [ 0.4454,  0.2642,  0.5098,  0.7238]], grad_fn=<SinBackward0>)\n",
            "None\n"
          ]
        }
      ]
    },
    {
      "cell_type": "markdown",
      "source": [
        "2. One of the most important aspects of improving model performance ins normalization. Implement a custom NN normalization layer that performs either a **batch** or **layer** normalization (based on a **dim** parameter)and integrate it into a simple feedforward neural network.\n",
        "- Note that you dont need to implement any backward() here, for simplicity.\n",
        "- Consider your input tensor to the neural network as of shape (m, n) where m is num of examples, n is num of features.\n",
        "- Which value of **dim** leads to batch and layer normalization?"
      ],
      "metadata": {
        "id": "s6GDwW-dFCyT"
      }
    },
    {
      "cell_type": "code",
      "source": [
        "sample=tc.rand(size=(3,4))\n",
        "\n",
        "#Batch Normalisation, dim=1\n",
        "\n",
        "batch=tc.nn.functional.normalize(sample, dim=1)\n",
        "\n",
        "#Layer Normalisation\n",
        "\n",
        "layer=tc.nn.functional.normalize(sample, dim=0)\n",
        "\n",
        "# print(f\"sample: \\n{sample}\\nBatch Normalised:\\n{batch}\\nLayer Normalised:\\n{layer}\")\n",
        "\n",
        "\n",
        "class model(nn.Module):\n",
        "  def __init__(self, inp):\n",
        "    super().__init__()\n",
        "    self.input=(inp.shape)[1]\n",
        "\n",
        "\n",
        "    self.linear=nn.Sequential(\n",
        "        nn.Linear(\n",
        "          in_features=self.input,\n",
        "          out_features=6\n",
        "     ),\n",
        "        nn.Linear(\n",
        "          in_features=6,\n",
        "          out_features=1\n",
        "      )\n",
        "    )\n",
        "\n",
        "  def forward(self, inp):\n",
        "    return self.linear(inp)\n",
        "\n",
        "\n",
        "ans=model(batch)\n",
        "\n",
        "ans.state_dict()\n"
      ],
      "metadata": {
        "colab": {
          "base_uri": "https://localhost:8080/"
        },
        "id": "I7T62ZcaUNEP",
        "outputId": "8dc7b7e3-5aa7-41be-91f2-5a4f879c9eec"
      },
      "execution_count": 34,
      "outputs": [
        {
          "output_type": "execute_result",
          "data": {
            "text/plain": [
              "OrderedDict([('linear.0.weight',\n",
              "              tensor([[ 0.0779,  0.4040,  0.0547, -0.1577],\n",
              "                      [ 0.1343, -0.1356,  0.2104,  0.4464],\n",
              "                      [ 0.2890, -0.2186,  0.2886,  0.0895],\n",
              "                      [ 0.2539, -0.3048, -0.4950, -0.1932],\n",
              "                      [-0.3835,  0.4103,  0.1440,  0.2071],\n",
              "                      [ 0.1581, -0.0087,  0.3913, -0.3553]])),\n",
              "             ('linear.0.bias',\n",
              "              tensor([ 0.0315, -0.3413,  0.1542, -0.1722,  0.1532, -0.1042])),\n",
              "             ('linear.1.weight',\n",
              "              tensor([[ 0.3386, -0.2420, -0.2435, -0.2435,  0.3672,  0.1360]])),\n",
              "             ('linear.1.bias', tensor([0.3928]))])"
            ]
          },
          "metadata": {},
          "execution_count": 34
        }
      ]
    },
    {
      "cell_type": "markdown",
      "source": [
        "3. Given a 4D tensor of shape (2, 3, 4, 5), create a mask that sets all elements in positions where the sum of indices is even to zero."
      ],
      "metadata": {
        "id": "YEc0BxM8GGcL"
      }
    },
    {
      "cell_type": "code",
      "source": [
        "sample=tc.randn(size=(2,3,4,5))\n",
        "\n",
        "indices=tc.nonzero(sample)\n",
        "indices\n",
        "\n",
        "\n",
        "for index in indices:\n",
        "  if(index.sum()%2==0):\n",
        "    sample[list(index)]=0\n",
        "\n",
        "\n",
        "sample\n"
      ],
      "metadata": {
        "id": "pJ3FD5XiGLh8",
        "colab": {
          "base_uri": "https://localhost:8080/"
        },
        "outputId": "397f3325-de88-45b8-bd46-24185e552689"
      },
      "execution_count": 35,
      "outputs": [
        {
          "output_type": "execute_result",
          "data": {
            "text/plain": [
              "tensor([[[[ 0.0000,  0.0087,  0.0000,  0.1971,  0.0000],\n",
              "          [ 0.3383,  0.0000,  0.0109,  0.0000, -0.0898],\n",
              "          [ 0.0000, -0.5644,  0.0000, -1.4692,  0.0000],\n",
              "          [ 0.7440,  0.0000, -0.6021,  0.0000,  0.4048]],\n",
              "\n",
              "         [[-1.3543,  0.0000,  0.4747,  0.0000,  1.2683],\n",
              "          [ 0.0000,  0.0981,  0.0000, -1.3527,  0.0000],\n",
              "          [ 0.5526,  0.0000,  0.5743,  0.0000, -0.3576],\n",
              "          [ 0.0000,  0.5886,  0.0000,  0.4098,  0.0000]],\n",
              "\n",
              "         [[ 0.0000,  0.3499,  0.0000, -0.1693,  0.0000],\n",
              "          [ 4.0356,  0.0000, -0.0127,  0.0000,  1.0131],\n",
              "          [ 0.0000,  0.5177,  0.0000, -0.5797,  0.0000],\n",
              "          [ 1.9312,  0.0000, -0.4752,  0.0000,  0.2704]]],\n",
              "\n",
              "\n",
              "        [[[-0.5628,  0.0000,  0.4405,  0.0000, -0.0606],\n",
              "          [ 0.0000,  0.8187,  0.0000,  0.3449,  0.0000],\n",
              "          [-0.1163,  0.0000, -0.0467,  0.0000, -0.5665],\n",
              "          [ 0.0000,  0.2625,  0.0000,  0.5214,  0.0000]],\n",
              "\n",
              "         [[ 0.0000, -2.2933,  0.0000, -0.4257,  0.0000],\n",
              "          [-0.1933,  0.0000, -1.9006,  0.0000, -0.9808],\n",
              "          [ 0.0000, -1.6535,  0.0000,  1.4611,  0.0000],\n",
              "          [-1.6022,  0.0000,  0.5712,  0.0000, -1.2956]],\n",
              "\n",
              "         [[ 0.0503,  0.0000, -0.3900,  0.0000, -0.9216],\n",
              "          [ 0.0000, -0.3370,  0.0000,  0.3581,  0.0000],\n",
              "          [ 1.3537,  0.0000,  2.1120,  0.0000, -0.9320],\n",
              "          [ 0.0000,  1.0687,  0.0000,  0.4598,  0.0000]]]])"
            ]
          },
          "metadata": {},
          "execution_count": 35
        }
      ]
    },
    {
      "cell_type": "markdown",
      "source": [
        "4. Given two tensors, one of shape `(3, 1, 4)` and another of shape `(1, 5, 1)`, compute their element-wise multiplication using broadcasting and then sum over specific axes to obtain a tensor of shape `(3, 5)`."
      ],
      "metadata": {
        "id": "Tv557NaJGMlQ"
      }
    },
    {
      "cell_type": "code",
      "source": [
        "#Element wise multiplication\n",
        "\n",
        "t1=tc.randn(size=(3,1,4))\n",
        "t2=tc.randn(size=(1,5,1))\n",
        "\n",
        "simple_mult=t1*t2\n",
        "\n",
        "new1=t1.repeat(1,5,1)\n",
        "new2=t2.repeat(3,1,4)\n",
        "\n",
        "manual_mult= new1*new2\n",
        "\n",
        "\n",
        "print(f\"{simple_mult}\\n{manual_mult}\")\n",
        "\n",
        "\n",
        "#Sum to get the shape (3,5)\n",
        "ans=tc.sum(simple_mult, dim=2)\n",
        "final=ans.squeeze()\n",
        "\n",
        "print(\"\\n\")\n",
        "\n",
        "print(final)\n",
        "\n"
      ],
      "metadata": {
        "id": "qP3EGgyXGMMH",
        "colab": {
          "base_uri": "https://localhost:8080/"
        },
        "outputId": "cb22cf9a-ea12-4b18-ff6d-1cb19cd7511c"
      },
      "execution_count": 38,
      "outputs": [
        {
          "output_type": "stream",
          "name": "stdout",
          "text": [
            "tensor([[[ 0.0352, -0.0883,  0.1731, -0.0282],\n",
            "         [ 0.0199, -0.0499,  0.0978, -0.0159],\n",
            "         [-0.0752,  0.1887, -0.3701,  0.0603],\n",
            "         [ 0.3915, -0.9825,  1.9270, -0.3142],\n",
            "         [-0.2190,  0.5496, -1.0780,  0.1757]],\n",
            "\n",
            "        [[-0.0173,  0.1784, -0.0661,  0.0146],\n",
            "         [-0.0098,  0.1007, -0.0373,  0.0083],\n",
            "         [ 0.0370, -0.3814,  0.1412, -0.0313],\n",
            "         [-0.1928,  1.9854, -0.7353,  0.1630],\n",
            "         [ 0.1079, -1.1107,  0.4113, -0.0912]],\n",
            "\n",
            "        [[ 0.0291,  0.0087, -0.0320,  0.1500],\n",
            "         [ 0.0164,  0.0049, -0.0181,  0.0847],\n",
            "         [-0.0621, -0.0187,  0.0684, -0.3206],\n",
            "         [ 0.3235,  0.0973, -0.3561,  1.6692],\n",
            "         [-0.1810, -0.0544,  0.1992, -0.9337]]])\n",
            "tensor([[[ 0.0352, -0.0883,  0.1731, -0.0282],\n",
            "         [ 0.0199, -0.0499,  0.0978, -0.0159],\n",
            "         [-0.0752,  0.1887, -0.3701,  0.0603],\n",
            "         [ 0.3915, -0.9825,  1.9270, -0.3142],\n",
            "         [-0.2190,  0.5496, -1.0780,  0.1757]],\n",
            "\n",
            "        [[-0.0173,  0.1784, -0.0661,  0.0146],\n",
            "         [-0.0098,  0.1007, -0.0373,  0.0083],\n",
            "         [ 0.0370, -0.3814,  0.1412, -0.0313],\n",
            "         [-0.1928,  1.9854, -0.7353,  0.1630],\n",
            "         [ 0.1079, -1.1107,  0.4113, -0.0912]],\n",
            "\n",
            "        [[ 0.0291,  0.0087, -0.0320,  0.1500],\n",
            "         [ 0.0164,  0.0049, -0.0181,  0.0847],\n",
            "         [-0.0621, -0.0187,  0.0684, -0.3206],\n",
            "         [ 0.3235,  0.0973, -0.3561,  1.6692],\n",
            "         [-0.1810, -0.0544,  0.1992, -0.9337]]])\n",
            "\n",
            "\n",
            "tensor([[ 0.0918,  0.0518, -0.1963,  1.0218, -0.5716],\n",
            "        [ 0.1096,  0.0619, -0.2344,  1.2204, -0.6827],\n",
            "        [ 0.1558,  0.0880, -0.3330,  1.7338, -0.9699]])\n"
          ]
        }
      ]
    },
    {
      "cell_type": "code",
      "source": [],
      "metadata": {
        "id": "JF2j-oAy8dEI"
      },
      "execution_count": null,
      "outputs": []
    }
  ]
}